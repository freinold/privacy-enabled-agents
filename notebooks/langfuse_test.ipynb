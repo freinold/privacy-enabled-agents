{
 "cells": [
  {
   "cell_type": "code",
   "execution_count": null,
   "id": "0",
   "metadata": {},
   "outputs": [],
   "source": [
    "# ruff: noqa: E402 (no import at top level) suppressed on this file as we need to inject the truststore before importing the other modules\n",
    "from dotenv import load_dotenv\n",
    "from langchain.schema import StrOutputParser\n",
    "from truststore import inject_into_ssl\n",
    "\n",
    "load_dotenv()\n",
    "inject_into_ssl()\n",
    "\n",
    "# End of special imports\n",
    "\n",
    "from langchain_openai import ChatOpenAI\n",
    "from langfuse.callback import CallbackHandler"
   ]
  },
  {
   "cell_type": "code",
   "execution_count": null,
   "id": "1",
   "metadata": {},
   "outputs": [],
   "source": [
    "chat_model = ChatOpenAI(model=\"gpt-4.1\", temperature=0)\n",
    "langfuse_handler = CallbackHandler()\n",
    "langfuse_handler.auth_check()\n",
    "chain = chat_model | StrOutputParser()\n",
    "while True:\n",
    "    question = input(\"User: \")\n",
    "    if question.lower() == \"exit\":\n",
    "        break\n",
    "    elif question.strip() == \"\":\n",
    "        print(\"System: Please enter a valid question.\")\n",
    "        continue\n",
    "    output = chain.invoke(\n",
    "        question,\n",
    "        config={\"callbacks\": [langfuse_handler]},\n",
    "    )\n",
    "    print(f\"LLM: {output}\")\n",
    "    langfuse_handler.flush()"
   ]
  }
 ],
 "metadata": {
  "kernelspec": {
   "display_name": ".venv",
   "language": "python",
   "name": "python3"
  },
  "language_info": {
   "codemirror_mode": {
    "name": "ipython",
    "version": 3
   },
   "file_extension": ".py",
   "mimetype": "text/x-python",
   "name": "python",
   "nbconvert_exporter": "python",
   "pygments_lexer": "ipython3",
   "version": "3.12.10"
  }
 },
 "nbformat": 4,
 "nbformat_minor": 5
}
